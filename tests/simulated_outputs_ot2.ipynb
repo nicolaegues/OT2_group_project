{
 "cells": [
  {
   "cell_type": "markdown",
   "id": "11dee7d3",
   "metadata": {},
   "source": []
  },
  {
   "cell_type": "code",
   "execution_count": 1,
   "id": "16449a66",
   "metadata": {},
   "outputs": [
    {
     "name": "stdout",
     "output_type": "stream",
     "text": [
      "c:\\Users\\nicol\\OneDrive - University of Bristol\\OT2_group_project\n",
      "Current working directory: c:\\Users\\nicol\\OneDrive - University of Bristol\\OT2_group_project\n"
     ]
    }
   ],
   "source": [
    "import os\n",
    "import sys\n",
    "%cd ..\n",
    "print(\"Current working directory:\", os.getcwd())\n",
    "project_root = os.path.abspath(os.getcwd())\n",
    "if project_root not in sys.path:\n",
    "    sys.path.insert(0, project_root)"
   ]
  },
  {
   "cell_type": "code",
   "execution_count": 3,
   "id": "bae2db20",
   "metadata": {},
   "outputs": [],
   "source": [
    "\n",
    "from opentrons.simulate import get_protocol_api\n",
    "import numpy as np\n",
    "\n",
    "requirements = {\"robotType\": \"OT-2\", \"apiLevel\": \"2.16\"}\n",
    "\n",
    "def run(protocol):\n",
    "\n",
    "    iteration_count = 7\n",
    "    wells_per_iteration = 5\n",
    "    volumes = np.array([[42.06915343, 13.78170516, 19.8832555 , 14.26588591],\n",
    " [42.38639251, 12.71361819, 19.40800151, 15.4919878 ],\n",
    " [43.02024142, 13.79028736, 18.16751135, 15.02195987],\n",
    " [43.1372641 , 14.09678473, 17.9605694 , 14.80538178],\n",
    " [39.87355839, 14.85761571, 21.02817419, 14.24065171]])\n",
    "\n",
    "    #location selected by user when wellplate class created\n",
    "    well_locs = [8, 5]\n",
    "\n",
    "    #concentrations used must come in a num of wells x num of liquids size array\n",
    "    iter_size = volumes.shape[0]\n",
    "    num_liquids = volumes.shape[1]\n",
    "\n",
    "    if 1 not in protocol.deck or protocol.deck[1] is None:\n",
    "        #loading the tips, reservoir and well plate into the program\n",
    "        tips = protocol.load_labware(\"opentrons_96_tiprack_1000ul\", 1)\n",
    "        reservoir = protocol.load_labware(\"nest_12_reservoir_15ml\", 2)\n",
    "        \n",
    "        plates = {}\n",
    "        for idx, loc in enumerate(well_locs):\n",
    "            plates[f\"plate_{idx+1}\"] = protocol.load_labware(\"nest_96_wellplate_100ul_pcr_full_skirt\", loc)\n",
    "        \n",
    "        left_pipette = protocol.load_instrument(\"p1000_single_gen2\", \"right\", tip_racks=[tips])\n",
    "    \n",
    "    else:\n",
    "        #retrieve existing labware\n",
    "        tips = protocol.deck[1]\n",
    "        reservoir = protocol.deck[2]\n",
    "        plates = {f\"plate_{idx+1}\": protocol.deck[loc] for idx, loc in enumerate(well_locs)}\n",
    "        left_pipette = protocol.loaded_instruments[\"right\"]\n",
    "\n",
    "    start_index = (iteration_count * wells_per_iteration) \n",
    "    current_plate_idx = start_index // 96\n",
    "    plate = plates[f\"plate_{current_plate_idx+1}\"]  # Get the correct plate\n",
    "    print(f\"plate_{current_plate_idx+1}\")\n",
    "\n",
    "    well_count = iteration_count - current_plate_idx*8\n",
    "\n",
    "    for liquid in range(num_liquids): \n",
    "\n",
    "        left_pipette.pick_up_tip() #one tip for each dye-distribution into all the wells. then a new tip for another color distribution into all the wells. \n",
    "\n",
    "        target_wells = []\n",
    "        for well, volume_set in enumerate(volumes):\n",
    "\n",
    "            #multiplying by factor of 8: this way we first fill A1 - A12, then B1-B12. instead of A1-H1, then A2-H2.... \n",
    "            well_index = well * 8 + well_count\n",
    "\n",
    "            target_well = plate.wells()[well_index] \n",
    "            target_wells.append(target_well)\n",
    "\n",
    "            \n",
    "            liquid_volume = volume_set[liquid]\n",
    "            liquid_source = reservoir[f'A{liquid+1}']\n",
    "\n",
    "            if liquid != num_liquids - 1:\n",
    "                left_pipette.transfer(liquid_volume, liquid_source, target_well, new_tip = \"never\")\n",
    "            else: \n",
    "                left_pipette.transfer(liquid_volume, liquid_source, target_well, new_tip = \"never\", mix_after=(3, 20 ))\n",
    "\n",
    "        #bin the tip\n",
    "        left_pipette.drop_tip()\n",
    "\n",
    "\n"
   ]
  },
  {
   "cell_type": "code",
   "execution_count": null,
   "id": "0ab93633",
   "metadata": {},
   "outputs": [],
   "source": [
    "protocol = get_protocol_api(\"2.16\") \n",
    "run(protocol)\n",
    "\n",
    "for command in protocol.commands():\n",
    "    print(command)"
   ]
  }
 ],
 "metadata": {
  "kernelspec": {
   "display_name": "base",
   "language": "python",
   "name": "python3"
  },
  "language_info": {
   "codemirror_mode": {
    "name": "ipython",
    "version": 3
   },
   "file_extension": ".py",
   "mimetype": "text/x-python",
   "name": "python",
   "nbconvert_exporter": "python",
   "pygments_lexer": "ipython3",
   "version": "3.12.4"
  }
 },
 "nbformat": 4,
 "nbformat_minor": 5
}

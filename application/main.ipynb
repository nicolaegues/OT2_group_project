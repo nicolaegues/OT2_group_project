{
 "cells": [
  {
   "cell_type": "code",
   "execution_count": 1,
   "metadata": {},
   "outputs": [],
   "source": [
    "#Test for reading and writing from a dataframe within an optimisation algorithm\n",
    "import numpy as np\n",
    "import pandas as pd\n",
    "import pyswarms as ps\n",
    "from skopt import gp_minimize\n",
    "from skopt.space import Real\n"
   ]
  },
  {
   "cell_type": "code",
   "execution_count": null,
   "metadata": {},
   "outputs": [],
   "source": [
    "\n",
    "\n",
    "def auto_colour_func(col):\n",
    "    ideal = np.array([40, 60, 20])\n",
    "    j = ((col - ideal)**2).sum(axis = 1)\n",
    "    return j\n",
    "\n",
    "    \n",
    "def robot_output(params):\n",
    "    return params\n",
    "\n",
    "def auto_input(params, df, iter_c):\n",
    "    iter_s = params.shape[0]\n",
    "    start_index = iter_c * iter_s\n",
    "    values = auto_colour_func(params)\n",
    "    df.values.reshape(96)[start_index:start_index+iter_s] = values\n",
    "    df.to_csv('input.csv')\n",
    "    return values\n",
    "    \n",
    "def user_input(params, df, iter_c):\n",
    "    iter_s = params.shape[0]\n",
    "    #handles input dataframe\n",
    "    #for colour mixing \n",
    "    start_index = iter_c * iter_s\n",
    "    #saves dataframe to file\n",
    "    df.to_csv('input.csv')\n",
    "    print('Input output values into input.csv')\n",
    "    print(\"type 'yes' when done\")\n",
    "    inp = input()\n",
    "    while inp != 'yes':\n",
    "        inp = input()\n",
    "    df2 = pd.read_csv('input.csv', index_col = [0], header = [0], dtype=np.double)\n",
    "    values = df2.values.reshape(96)[start_index:start_index+iter_s]\n",
    "    return values\n",
    "\n",
    "class well_plate96:\n",
    "    def __init__(self, function, iter_size, liquid_names):\n",
    "        self.iteration_count = 0  # Initialize counter\n",
    "        self.num_liquids = len(liquid_names)\n",
    "        self.output = pd.DataFrame(data = np.zeros([8, 12*self.num_liquids]), index = np.arange(1, 9))\n",
    "        self.output.columns = pd.MultiIndex.from_product([np.arange(1, 13), liquid_names])\n",
    "        self.input = pd.DataFrame(data = np.zeros([8, 12]), index = np.arange(1, 9), columns = np.arange(1,13))\n",
    "        self.iter_size = iter_size\n",
    "        self.liquid_names = liquid_names\n",
    "        #define which function you want, user input or colour mixing function\n",
    "        self.function = function\n",
    "\n",
    "    def __call__(self, params):\n",
    "        #calculates start and end index\n",
    "        start_index = (self.iteration_count * self.iter_size) * self.num_liquids\n",
    "        end_index = start_index + self.iter_size*self.num_liquids\n",
    "\n",
    "        #saves output parameter to csv\n",
    "        self.output.values.reshape(96*self.num_liquids)[start_index:end_index] = params.reshape(12*self.num_liquids)\n",
    "        self.output.to_csv('output.csv')\n",
    "\n",
    "        #function to pippette goes here\n",
    "        robot_output(params)\n",
    "\n",
    "        #camera processing and colour extraction function goes here\n",
    "        values = self.function(params, self.input, self.iteration_count)\n",
    "        self.iteration_count += 1\n",
    "        return values"
   ]
  },
  {
   "cell_type": "code",
   "execution_count": 3,
   "metadata": {},
   "outputs": [
    {
     "name": "stderr",
     "output_type": "stream",
     "text": [
      "2025-02-28 13:43:50,839 - pyswarms.single.global_best - INFO - Optimize for 8 iters with {'c1': 0.3, 'c2': 0.5, 'w': 0.1}\n",
      "pyswarms.single.global_best: 100%|██████████|8/8, best_cost=2.39\n",
      "2025-02-28 13:43:50,903 - pyswarms.single.global_best - INFO - Optimization finished | best cost: 2.386417510641984, best pos: [39.98955385 59.07966502 21.24068203]\n"
     ]
    }
   ],
   "source": [
    "model = well_plate96(auto_input, 12, ['blue', 'green', 'red'])\n",
    "\n",
    "max_bound = 100 * np.ones(3)\n",
    "min_bound = np.zeros(3)\n",
    "bounds = (min_bound, max_bound)\n",
    "\n",
    "#initialising swarm\n",
    "options = {'c1': 0.3, 'c2': 0.5, 'w':0.1}\n",
    "\n",
    "#Call instance of PSO with bounds argument\n",
    "optimiser = ps.single.GlobalBestPSO(n_particles=12, dimensions=3, options=options, bounds=bounds)\n",
    "\n",
    "#Perform optimization\n",
    "cost, pos = optimiser.optimize(model, iters=8)\n"
   ]
  }
 ],
 "metadata": {
  "kernelspec": {
   "display_name": "base",
   "language": "python",
   "name": "python3"
  },
  "language_info": {
   "codemirror_mode": {
    "name": "ipython",
    "version": 3
   },
   "file_extension": ".py",
   "mimetype": "text/x-python",
   "name": "python",
   "nbconvert_exporter": "python",
   "pygments_lexer": "ipython3",
   "version": "3.12.2"
  }
 },
 "nbformat": 4,
 "nbformat_minor": 2
}
